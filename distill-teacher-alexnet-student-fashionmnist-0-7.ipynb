{
 "cells": [
  {
   "cell_type": "code",
   "execution_count": 1,
   "id": "2c3eae71",
   "metadata": {
    "execution": {
     "iopub.execute_input": "2024-10-05T14:07:14.625732Z",
     "iopub.status.busy": "2024-10-05T14:07:14.625330Z",
     "iopub.status.idle": "2024-10-05T14:07:51.936665Z",
     "shell.execute_reply": "2024-10-05T14:07:51.935692Z"
    },
    "papermill": {
     "duration": 37.323298,
     "end_time": "2024-10-05T14:07:51.939144",
     "exception": false,
     "start_time": "2024-10-05T14:07:14.615846",
     "status": "completed"
    },
    "tags": []
   },
   "outputs": [
    {
     "name": "stdout",
     "output_type": "stream",
     "text": [
      "Collecting qiskit==0.39.0\r\n",
      "  Downloading qiskit-0.39.0.tar.gz (13 kB)\r\n",
      "  Preparing metadata (setup.py) ... \u001b[?25l-\b \bdone\r\n",
      "\u001b[?25hCollecting qiskit-aer==0.11.0\r\n",
      "  Downloading qiskit_aer-0.11.0-cp310-cp310-manylinux_2_17_x86_64.manylinux2014_x86_64.whl.metadata (6.1 kB)\r\n",
      "Collecting qiskit-terra==0.22.0 (from qiskit==0.39.0)\r\n",
      "  Downloading qiskit_terra-0.22.0-cp310-cp310-manylinux_2_17_x86_64.manylinux2014_x86_64.whl.metadata (8.6 kB)\r\n",
      "Collecting qiskit-ibmq-provider==0.19.2 (from qiskit==0.39.0)\r\n",
      "  Downloading qiskit_ibmq_provider-0.19.2-py3-none-any.whl.metadata (11 kB)\r\n",
      "Requirement already satisfied: numpy>=1.16.3 in /opt/conda/lib/python3.10/site-packages (from qiskit-aer==0.11.0) (1.26.4)\r\n",
      "Requirement already satisfied: scipy>=1.0 in /opt/conda/lib/python3.10/site-packages (from qiskit-aer==0.11.0) (1.14.1)\r\n",
      "Requirement already satisfied: requests>=2.19 in /opt/conda/lib/python3.10/site-packages (from qiskit-ibmq-provider==0.19.2->qiskit==0.39.0) (2.32.3)\r\n",
      "Collecting requests-ntlm>=1.1.0 (from qiskit-ibmq-provider==0.19.2->qiskit==0.39.0)\r\n",
      "  Downloading requests_ntlm-1.3.0-py3-none-any.whl.metadata (2.4 kB)\r\n",
      "Requirement already satisfied: urllib3>=1.21.1 in /opt/conda/lib/python3.10/site-packages (from qiskit-ibmq-provider==0.19.2->qiskit==0.39.0) (1.26.18)\r\n",
      "Requirement already satisfied: python-dateutil>=2.8.0 in /opt/conda/lib/python3.10/site-packages (from qiskit-ibmq-provider==0.19.2->qiskit==0.39.0) (2.9.0.post0)\r\n",
      "Requirement already satisfied: websocket-client>=1.0.1 in /opt/conda/lib/python3.10/site-packages (from qiskit-ibmq-provider==0.19.2->qiskit==0.39.0) (1.8.0)\r\n",
      "Requirement already satisfied: websockets>=10.0 in /opt/conda/lib/python3.10/site-packages (from qiskit-ibmq-provider==0.19.2->qiskit==0.39.0) (12.0)\r\n",
      "Collecting retworkx>=0.11.0 (from qiskit-terra==0.22.0->qiskit==0.39.0)\r\n",
      "  Downloading retworkx-0.15.1-py3-none-any.whl.metadata (10 kB)\r\n",
      "Collecting ply>=3.10 (from qiskit-terra==0.22.0->qiskit==0.39.0)\r\n",
      "  Downloading ply-3.11-py2.py3-none-any.whl.metadata (844 bytes)\r\n",
      "Requirement already satisfied: psutil>=5 in /opt/conda/lib/python3.10/site-packages (from qiskit-terra==0.22.0->qiskit==0.39.0) (5.9.3)\r\n",
      "Requirement already satisfied: sympy>=1.3 in /opt/conda/lib/python3.10/site-packages (from qiskit-terra==0.22.0->qiskit==0.39.0) (1.13.3)\r\n",
      "Requirement already satisfied: dill>=0.3 in /opt/conda/lib/python3.10/site-packages (from qiskit-terra==0.22.0->qiskit==0.39.0) (0.3.8)\r\n",
      "Collecting stevedore>=3.0.0 (from qiskit-terra==0.22.0->qiskit==0.39.0)\r\n",
      "  Downloading stevedore-5.3.0-py3-none-any.whl.metadata (2.3 kB)\r\n",
      "Collecting tweedledum<2.0,>=1.1 (from qiskit-terra==0.22.0->qiskit==0.39.0)\r\n",
      "  Downloading tweedledum-1.1.1-cp310-cp310-manylinux_2_12_x86_64.manylinux2010_x86_64.whl.metadata (10.0 kB)\r\n",
      "Collecting symengine>=0.9 (from qiskit-terra==0.22.0->qiskit==0.39.0)\r\n",
      "  Downloading symengine-0.13.0-cp310-cp310-manylinux_2_17_x86_64.manylinux2014_x86_64.whl.metadata (1.2 kB)\r\n",
      "Requirement already satisfied: six>=1.5 in /opt/conda/lib/python3.10/site-packages (from python-dateutil>=2.8.0->qiskit-ibmq-provider==0.19.2->qiskit==0.39.0) (1.16.0)\r\n",
      "Requirement already satisfied: charset-normalizer<4,>=2 in /opt/conda/lib/python3.10/site-packages (from requests>=2.19->qiskit-ibmq-provider==0.19.2->qiskit==0.39.0) (3.3.2)\r\n",
      "Requirement already satisfied: idna<4,>=2.5 in /opt/conda/lib/python3.10/site-packages (from requests>=2.19->qiskit-ibmq-provider==0.19.2->qiskit==0.39.0) (3.7)\r\n",
      "Requirement already satisfied: certifi>=2017.4.17 in /opt/conda/lib/python3.10/site-packages (from requests>=2.19->qiskit-ibmq-provider==0.19.2->qiskit==0.39.0) (2024.8.30)\r\n",
      "Requirement already satisfied: cryptography>=1.3 in /opt/conda/lib/python3.10/site-packages (from requests-ntlm>=1.1.0->qiskit-ibmq-provider==0.19.2->qiskit==0.39.0) (42.0.8)\r\n",
      "Collecting pyspnego>=0.4.0 (from requests-ntlm>=1.1.0->qiskit-ibmq-provider==0.19.2->qiskit==0.39.0)\r\n",
      "  Downloading pyspnego-0.11.1-py3-none-any.whl.metadata (5.4 kB)\r\n",
      "Collecting rustworkx==0.15.1 (from retworkx>=0.11.0->qiskit-terra==0.22.0->qiskit==0.39.0)\r\n",
      "  Downloading rustworkx-0.15.1-cp38-abi3-manylinux_2_17_x86_64.manylinux2014_x86_64.whl.metadata (9.9 kB)\r\n",
      "Collecting pbr>=2.0.0 (from stevedore>=3.0.0->qiskit-terra==0.22.0->qiskit==0.39.0)\r\n",
      "  Downloading pbr-6.1.0-py2.py3-none-any.whl.metadata (3.4 kB)\r\n",
      "Requirement already satisfied: mpmath<1.4,>=1.1.0 in /opt/conda/lib/python3.10/site-packages (from sympy>=1.3->qiskit-terra==0.22.0->qiskit==0.39.0) (1.3.0)\r\n",
      "Requirement already satisfied: cffi>=1.12 in /opt/conda/lib/python3.10/site-packages (from cryptography>=1.3->requests-ntlm>=1.1.0->qiskit-ibmq-provider==0.19.2->qiskit==0.39.0) (1.16.0)\r\n",
      "Requirement already satisfied: pycparser in /opt/conda/lib/python3.10/site-packages (from cffi>=1.12->cryptography>=1.3->requests-ntlm>=1.1.0->qiskit-ibmq-provider==0.19.2->qiskit==0.39.0) (2.22)\r\n",
      "Downloading qiskit_aer-0.11.0-cp310-cp310-manylinux_2_17_x86_64.manylinux2014_x86_64.whl (19.2 MB)\r\n",
      "\u001b[2K   \u001b[90m━━━━━━━━━━━━━━━━━━━━━━━━━━━━━━━━━━━━━━━━\u001b[0m \u001b[32m19.2/19.2 MB\u001b[0m \u001b[31m60.1 MB/s\u001b[0m eta \u001b[36m0:00:00\u001b[0m\r\n",
      "\u001b[?25hDownloading qiskit_ibmq_provider-0.19.2-py3-none-any.whl (240 kB)\r\n",
      "\u001b[2K   \u001b[90m━━━━━━━━━━━━━━━━━━━━━━━━━━━━━━━━━━━━━━━━\u001b[0m \u001b[32m240.4/240.4 kB\u001b[0m \u001b[31m17.5 MB/s\u001b[0m eta \u001b[36m0:00:00\u001b[0m\r\n",
      "\u001b[?25hDownloading qiskit_terra-0.22.0-cp310-cp310-manylinux_2_17_x86_64.manylinux2014_x86_64.whl (4.7 MB)\r\n",
      "\u001b[2K   \u001b[90m━━━━━━━━━━━━━━━━━━━━━━━━━━━━━━━━━━━━━━━━\u001b[0m \u001b[32m4.7/4.7 MB\u001b[0m \u001b[31m88.0 MB/s\u001b[0m eta \u001b[36m0:00:00\u001b[0m\r\n",
      "\u001b[?25hDownloading ply-3.11-py2.py3-none-any.whl (49 kB)\r\n",
      "\u001b[2K   \u001b[90m━━━━━━━━━━━━━━━━━━━━━━━━━━━━━━━━━━━━━━━━\u001b[0m \u001b[32m49.6/49.6 kB\u001b[0m \u001b[31m3.5 MB/s\u001b[0m eta \u001b[36m0:00:00\u001b[0m\r\n",
      "\u001b[?25hDownloading requests_ntlm-1.3.0-py3-none-any.whl (6.6 kB)\r\n",
      "Downloading retworkx-0.15.1-py3-none-any.whl (10 kB)\r\n",
      "Downloading rustworkx-0.15.1-cp38-abi3-manylinux_2_17_x86_64.manylinux2014_x86_64.whl (2.0 MB)\r\n",
      "\u001b[2K   \u001b[90m━━━━━━━━━━━━━━━━━━━━━━━━━━━━━━━━━━━━━━━━\u001b[0m \u001b[32m2.0/2.0 MB\u001b[0m \u001b[31m68.4 MB/s\u001b[0m eta \u001b[36m0:00:00\u001b[0m\r\n",
      "\u001b[?25hDownloading stevedore-5.3.0-py3-none-any.whl (49 kB)\r\n",
      "\u001b[2K   \u001b[90m━━━━━━━━━━━━━━━━━━━━━━━━━━━━━━━━━━━━━━━━\u001b[0m \u001b[32m49.7/49.7 kB\u001b[0m \u001b[31m3.5 MB/s\u001b[0m eta \u001b[36m0:00:00\u001b[0m\r\n",
      "\u001b[?25hDownloading symengine-0.13.0-cp310-cp310-manylinux_2_17_x86_64.manylinux2014_x86_64.whl (49.7 MB)\r\n",
      "\u001b[2K   \u001b[90m━━━━━━━━━━━━━━━━━━━━━━━━━━━━━━━━━━━━━━━━\u001b[0m \u001b[32m49.7/49.7 MB\u001b[0m \u001b[31m33.8 MB/s\u001b[0m eta \u001b[36m0:00:00\u001b[0m\r\n",
      "\u001b[?25hDownloading tweedledum-1.1.1-cp310-cp310-manylinux_2_12_x86_64.manylinux2010_x86_64.whl (929 kB)\r\n",
      "\u001b[2K   \u001b[90m━━━━━━━━━━━━━━━━━━━━━━━━━━━━━━━━━━━━━━━━\u001b[0m \u001b[32m929.7/929.7 kB\u001b[0m \u001b[31m44.4 MB/s\u001b[0m eta \u001b[36m0:00:00\u001b[0m\r\n",
      "\u001b[?25hDownloading pbr-6.1.0-py2.py3-none-any.whl (108 kB)\r\n",
      "\u001b[2K   \u001b[90m━━━━━━━━━━━━━━━━━━━━━━━━━━━━━━━━━━━━━━━━\u001b[0m \u001b[32m108.5/108.5 kB\u001b[0m \u001b[31m7.9 MB/s\u001b[0m eta \u001b[36m0:00:00\u001b[0m\r\n",
      "\u001b[?25hDownloading pyspnego-0.11.1-py3-none-any.whl (130 kB)\r\n",
      "\u001b[2K   \u001b[90m━━━━━━━━━━━━━━━━━━━━━━━━━━━━━━━━━━━━━━━━\u001b[0m \u001b[32m130.5/130.5 kB\u001b[0m \u001b[31m10.1 MB/s\u001b[0m eta \u001b[36m0:00:00\u001b[0m\r\n",
      "\u001b[?25hBuilding wheels for collected packages: qiskit\r\n",
      "  Building wheel for qiskit (setup.py) ... \u001b[?25l-\b \b\\\b \bdone\r\n",
      "\u001b[?25h  Created wheel for qiskit: filename=qiskit-0.39.0-py3-none-any.whl size=12164 sha256=0f3949ac763baff2123784e24a4a14f82d891c410189451d42c0826de46521cd\r\n",
      "  Stored in directory: /root/.cache/pip/wheels/22/45/03/d288ac15e6ef3467a77ff2a7757a126ea0aecfb440f871086f\r\n",
      "Successfully built qiskit\r\n",
      "Installing collected packages: ply, tweedledum, symengine, rustworkx, pbr, stevedore, retworkx, qiskit-terra, pyspnego, requests-ntlm, qiskit-aer, qiskit-ibmq-provider, qiskit\r\n",
      "Successfully installed pbr-6.1.0 ply-3.11 pyspnego-0.11.1 qiskit-0.39.0 qiskit-aer-0.11.0 qiskit-ibmq-provider-0.19.2 qiskit-terra-0.22.0 requests-ntlm-1.3.0 retworkx-0.15.1 rustworkx-0.15.1 stevedore-5.3.0 symengine-0.13.0 tweedledum-1.1.1\r\n",
      "Collecting pylatexenc\r\n",
      "  Downloading pylatexenc-2.10.tar.gz (162 kB)\r\n",
      "\u001b[2K     \u001b[90m━━━━━━━━━━━━━━━━━━━━━━━━━━━━━━━━━━━━━━━\u001b[0m \u001b[32m162.6/162.6 kB\u001b[0m \u001b[31m3.2 MB/s\u001b[0m eta \u001b[36m0:00:00\u001b[0m\r\n",
      "\u001b[?25h  Preparing metadata (setup.py) ... \u001b[?25l-\b \bdone\r\n",
      "\u001b[?25hBuilding wheels for collected packages: pylatexenc\r\n",
      "  Building wheel for pylatexenc (setup.py) ... \u001b[?25l-\b \b\\\b \bdone\r\n",
      "\u001b[?25h  Created wheel for pylatexenc: filename=pylatexenc-2.10-py3-none-any.whl size=136816 sha256=ffa5be504e14ed256d389b955000cf59ebff99cbb9d7eec041073b64108e534a\r\n",
      "  Stored in directory: /root/.cache/pip/wheels/d3/31/8b/e09b0386afd80cfc556c00408c9aeea5c35c4d484a9c762fd5\r\n",
      "Successfully built pylatexenc\r\n",
      "Installing collected packages: pylatexenc\r\n",
      "Successfully installed pylatexenc-2.10\r\n"
     ]
    }
   ],
   "source": [
    "!pip install qiskit==0.39.0 qiskit-aer==0.11.0\n",
    "!pip install pylatexenc"
   ]
  },
  {
   "cell_type": "code",
   "execution_count": 2,
   "id": "2cce98cd",
   "metadata": {
    "execution": {
     "iopub.execute_input": "2024-10-05T14:07:51.969004Z",
     "iopub.status.busy": "2024-10-05T14:07:51.967968Z",
     "iopub.status.idle": "2024-10-05T14:07:55.276819Z",
     "shell.execute_reply": "2024-10-05T14:07:55.275974Z"
    },
    "papermill": {
     "duration": 3.325853,
     "end_time": "2024-10-05T14:07:55.279186",
     "exception": false,
     "start_time": "2024-10-05T14:07:51.953333",
     "status": "completed"
    },
    "tags": []
   },
   "outputs": [],
   "source": [
    "import torch\n",
    "from torch.autograd import Function\n",
    "import torch.optim as optim\n",
    "import torch.nn as nn"
   ]
  },
  {
   "cell_type": "code",
   "execution_count": 3,
   "id": "ef104956",
   "metadata": {
    "execution": {
     "iopub.execute_input": "2024-10-05T14:07:55.307941Z",
     "iopub.status.busy": "2024-10-05T14:07:55.307510Z",
     "iopub.status.idle": "2024-10-05T14:07:55.601341Z",
     "shell.execute_reply": "2024-10-05T14:07:55.600348Z"
    },
    "papermill": {
     "duration": 0.310388,
     "end_time": "2024-10-05T14:07:55.603658",
     "exception": false,
     "start_time": "2024-10-05T14:07:55.293270",
     "status": "completed"
    },
    "tags": []
   },
   "outputs": [],
   "source": [
    "from qiskit import execute\n",
    "from qiskit.circuit import Parameter,ControlledGate\n",
    "from qiskit import Aer\n",
    "import qiskit\n",
    "import numpy as np"
   ]
  },
  {
   "cell_type": "code",
   "execution_count": 4,
   "id": "11269bf2",
   "metadata": {
    "execution": {
     "iopub.execute_input": "2024-10-05T14:07:55.631476Z",
     "iopub.status.busy": "2024-10-05T14:07:55.631006Z",
     "iopub.status.idle": "2024-10-05T14:07:55.635484Z",
     "shell.execute_reply": "2024-10-05T14:07:55.634572Z"
    },
    "papermill": {
     "duration": 0.020726,
     "end_time": "2024-10-05T14:07:55.637317",
     "exception": false,
     "start_time": "2024-10-05T14:07:55.616591",
     "status": "completed"
    },
    "tags": []
   },
   "outputs": [],
   "source": [
    "from tqdm import tqdm"
   ]
  },
  {
   "cell_type": "code",
   "execution_count": 5,
   "id": "5e3a0da9",
   "metadata": {
    "execution": {
     "iopub.execute_input": "2024-10-05T14:07:55.664308Z",
     "iopub.status.busy": "2024-10-05T14:07:55.663473Z",
     "iopub.status.idle": "2024-10-05T14:07:55.669068Z",
     "shell.execute_reply": "2024-10-05T14:07:55.668269Z"
    },
    "papermill": {
     "duration": 0.021004,
     "end_time": "2024-10-05T14:07:55.670937",
     "exception": false,
     "start_time": "2024-10-05T14:07:55.649933",
     "status": "completed"
    },
    "tags": []
   },
   "outputs": [],
   "source": [
    "from matplotlib import pyplot as plt\n",
    "%matplotlib inline"
   ]
  },
  {
   "cell_type": "code",
   "execution_count": 6,
   "id": "0c8daa6e",
   "metadata": {
    "execution": {
     "iopub.execute_input": "2024-10-05T14:07:55.698478Z",
     "iopub.status.busy": "2024-10-05T14:07:55.698104Z",
     "iopub.status.idle": "2024-10-05T14:07:56.407164Z",
     "shell.execute_reply": "2024-10-05T14:07:56.406409Z"
    },
    "papermill": {
     "duration": 0.72517,
     "end_time": "2024-10-05T14:07:56.409359",
     "exception": false,
     "start_time": "2024-10-05T14:07:55.684189",
     "status": "completed"
    },
    "tags": []
   },
   "outputs": [],
   "source": [
    "np.random.seed = 42\n",
    "\n",
    "NUM_QUBITS = 3\n",
    "NUM_SHOTS = 5000\n",
    "SHIFT = np.pi/4\n",
    "LEARNING_RATE = 0.01\n",
    "MOMENTUM = 0.5\n",
    "\n",
    "SIMULATOR = Aer.get_backend('qasm_simulator')"
   ]
  },
  {
   "cell_type": "code",
   "execution_count": 7,
   "id": "ef1ca13f",
   "metadata": {
    "execution": {
     "iopub.execute_input": "2024-10-05T14:07:56.438694Z",
     "iopub.status.busy": "2024-10-05T14:07:56.438223Z",
     "iopub.status.idle": "2024-10-05T14:07:56.444895Z",
     "shell.execute_reply": "2024-10-05T14:07:56.443852Z"
    },
    "papermill": {
     "duration": 0.024744,
     "end_time": "2024-10-05T14:07:56.447225",
     "exception": false,
     "start_time": "2024-10-05T14:07:56.422481",
     "status": "completed"
    },
    "tags": []
   },
   "outputs": [
    {
     "name": "stdout",
     "output_type": "stream",
     "text": [
      "['000', '001', '010', '011', '100', '101', '110', '111']\n"
     ]
    }
   ],
   "source": [
    "import itertools\n",
    "def create_QC_OUTPUTS():\n",
    "    measurements = list(itertools.product([0, 1], repeat=NUM_QUBITS))\n",
    "    return [''.join([str(bit) for bit in measurement]) for measurement in measurements]\n",
    "\n",
    "QC_OUTPUTS = create_QC_OUTPUTS()\n",
    "print(QC_OUTPUTS)"
   ]
  },
  {
   "cell_type": "code",
   "execution_count": 8,
   "id": "6a223358",
   "metadata": {
    "ExecuteTime": {
     "end_time": "2019-10-01T16:09:30.598730Z",
     "start_time": "2019-10-01T16:09:30.567861Z"
    },
    "execution": {
     "iopub.execute_input": "2024-10-05T14:07:56.474901Z",
     "iopub.status.busy": "2024-10-05T14:07:56.474603Z",
     "iopub.status.idle": "2024-10-05T14:07:56.485206Z",
     "shell.execute_reply": "2024-10-05T14:07:56.484340Z"
    },
    "papermill": {
     "duration": 0.025898,
     "end_time": "2024-10-05T14:07:56.487047",
     "exception": false,
     "start_time": "2024-10-05T14:07:56.461149",
     "status": "completed"
    },
    "tags": []
   },
   "outputs": [],
   "source": [
    "class QiskitCircuit():\n",
    "    \n",
    "    def __init__(self, n_qubits, backend, shots):\n",
    "        # --- Circuit definition ---\n",
    "        self.circuit = qiskit.QuantumCircuit(n_qubits)\n",
    "        self.n_qubits = n_qubits\n",
    "        self.thetas ={k : Parameter('Theta'+str(k))for k in range(self.n_qubits)}\n",
    "        \n",
    "        all_qubits = [i for i in range(n_qubits)]\n",
    "        self.circuit.h(all_qubits)\n",
    "        self.circuit.barrier()\n",
    "        for k in range(n_qubits):\n",
    "            self.circuit.ry(self.thetas[k], k)\n",
    "\n",
    "        self.circuit.measure_all()\n",
    "        # ---------------------------\n",
    "        \n",
    "        self.backend = backend\n",
    "        self.shots = shots\n",
    "        \n",
    "        \n",
    "    def N_qubit_expectation_Z(self,counts, shots, nr_qubits):\n",
    "        expects = np.zeros(len(QC_OUTPUTS))\n",
    "        for k in range(len(QC_OUTPUTS)):\n",
    "            key = QC_OUTPUTS[k]\n",
    "            perc = counts.get(key, 0) /shots\n",
    "            expects[k] = perc\n",
    "        return expects\n",
    "    \n",
    "    def run(self, i):\n",
    "        params = i\n",
    "        backend = Aer.get_backend('qasm_simulator')\n",
    "    \n",
    "        bound_circuit = self.circuit.bind_parameters({self.thetas[k] : params[k].item() for k in range(NUM_QUBITS)}) \n",
    "        job_sim = execute(bound_circuit, self.backend, shots=self.shots)\n",
    "         \n",
    "        result_sim = job_sim.result()\n",
    "        counts = result_sim.get_counts()\n",
    "        return self.N_qubit_expectation_Z(counts,self.shots,NUM_QUBITS)"
   ]
  },
  {
   "cell_type": "code",
   "execution_count": 9,
   "id": "d1269311",
   "metadata": {
    "execution": {
     "iopub.execute_input": "2024-10-05T14:07:56.513753Z",
     "iopub.status.busy": "2024-10-05T14:07:56.513389Z",
     "iopub.status.idle": "2024-10-05T14:07:57.875549Z",
     "shell.execute_reply": "2024-10-05T14:07:57.874543Z"
    },
    "papermill": {
     "duration": 1.37796,
     "end_time": "2024-10-05T14:07:57.877650",
     "exception": false,
     "start_time": "2024-10-05T14:07:56.499690",
     "status": "completed"
    },
    "tags": []
   },
   "outputs": [
    {
     "name": "stdout",
     "output_type": "stream",
     "text": [
      "Expected value for rotation [pi/4]: [0.0038 0.0216 0.0164 0.1064 0.0194 0.1024 0.1146 0.6154]\n"
     ]
    },
    {
     "data": {
      "image/png": "[encoded data removed]",
      "text/plain": [
       "<Figure size 747.609x367.889 with 1 Axes>"
      ]
     },
     "execution_count": 9,
     "metadata": {},
     "output_type": "execute_result"
    }
   ],
   "source": [
    "circuit = QiskitCircuit(NUM_QUBITS, SIMULATOR, NUM_SHOTS)\n",
    "print('Expected value for rotation [pi/4]: {}'.format(circuit.run(torch.Tensor([np.pi/4]*NUM_QUBITS))))\n",
    "circuit.circuit.draw(output='mpl')"
   ]
  },
  {
   "cell_type": "code",
   "execution_count": 10,
   "id": "938262be",
   "metadata": {
    "execution": {
     "iopub.execute_input": "2024-10-05T14:07:57.905883Z",
     "iopub.status.busy": "2024-10-05T14:07:57.905408Z",
     "iopub.status.idle": "2024-10-05T14:07:57.915226Z",
     "shell.execute_reply": "2024-10-05T14:07:57.914413Z"
    },
    "papermill": {
     "duration": 0.026046,
     "end_time": "2024-10-05T14:07:57.917233",
     "exception": false,
     "start_time": "2024-10-05T14:07:57.891187",
     "status": "completed"
    },
    "tags": []
   },
   "outputs": [],
   "source": [
    "class TorchCircuit(Function):    \n",
    "\n",
    "    @staticmethod\n",
    "    def forward(ctx, i):\n",
    "        if not hasattr(ctx, 'QiskitCirc'):\n",
    "            ctx.QiskitCirc = QiskitCircuit(NUM_QUBITS, SIMULATOR, shots=NUM_SHOTS)\n",
    "            \n",
    "        exp_value = ctx.QiskitCirc.run(i)\n",
    "        \n",
    "        result = torch.tensor([exp_value])\n",
    "        \n",
    "        \n",
    "        ctx.save_for_backward(result, i)\n",
    "        \n",
    "        return result\n",
    "    \n",
    "    @staticmethod\n",
    "    def backward(ctx, grad_output):\n",
    "        \n",
    "        forward_tensor, i = ctx.saved_tensors\n",
    "        input_numbers = i\n",
    "        gradients = torch.Tensor()\n",
    "        \n",
    "        for k in range(NUM_QUBITS):\n",
    "            shift_right = input_numbers.detach().clone()\n",
    "            shift_right[k] = shift_right[k] + SHIFT\n",
    "            shift_left = input_numbers.detach().clone()\n",
    "            shift_left[k] = shift_left[k] - SHIFT\n",
    "            \n",
    "            expectation_right = ctx.QiskitCirc.run(shift_right)\n",
    "            expectation_left  = ctx.QiskitCirc.run(shift_left)\n",
    "            \n",
    "            gradient = torch.tensor([expectation_right]) - torch.tensor([expectation_left])\n",
    "            gradients = torch.cat((gradients, gradient.float()))\n",
    "            \n",
    "        result = torch.Tensor(gradients)\n",
    "\n",
    "        return (result.float() * grad_output.float()).T"
   ]
  },
  {
   "cell_type": "code",
   "execution_count": 11,
   "id": "1cf27380",
   "metadata": {
    "execution": {
     "iopub.execute_input": "2024-10-05T14:07:57.944932Z",
     "iopub.status.busy": "2024-10-05T14:07:57.944574Z",
     "iopub.status.idle": "2024-10-05T14:07:58.433239Z",
     "shell.execute_reply": "2024-10-05T14:07:58.432242Z"
    },
    "papermill": {
     "duration": 0.505006,
     "end_time": "2024-10-05T14:07:58.435422",
     "exception": false,
     "start_time": "2024-10-05T14:07:57.930416",
     "status": "completed"
    },
    "tags": []
   },
   "outputs": [
    {
     "name": "stderr",
     "output_type": "stream",
     "text": [
      "/tmp/ipykernel_23/1737229936.py:10: UserWarning: Creating a tensor from a list of numpy.ndarrays is extremely slow. Please consider converting the list to a single numpy.ndarray with numpy.array() before converting to a tensor. (Triggered internally at /usr/local/src/pytorch/torch/csrc/utils/tensor_new.cpp:278.)\n",
      "  result = torch.tensor([exp_value])\n"
     ]
    },
    {
     "name": "stdout",
     "output_type": "stream",
     "text": [
      "y1 after quantum layer: tensor([[0.0032, 0.0152, 0.0174, 0.1056, 0.0198, 0.1032, 0.1032, 0.6324]],\n",
      "       dtype=torch.float64, grad_fn=<TorchCircuitBackward>)\n",
      "x.grad = tensor([ 0.0053,  0.0251, -0.0974])\n"
     ]
    }
   ],
   "source": [
    "x = torch.tensor([np.pi/4]*NUM_QUBITS, requires_grad=True)\n",
    "\n",
    "qc = TorchCircuit.apply\n",
    "y1 = qc(x)\n",
    "print('y1 after quantum layer: {}'.format(y1))\n",
    "y1 = nn.Linear(2**NUM_QUBITS,1)(y1.float())\n",
    "y1.backward()\n",
    "print('x.grad = {}'.format(x.grad))"
   ]
  },
  {
   "cell_type": "markdown",
   "id": "e7eec507",
   "metadata": {
    "papermill": {
     "duration": 0.012986,
     "end_time": "2024-10-05T14:07:58.462359",
     "exception": false,
     "start_time": "2024-10-05T14:07:58.449373",
     "status": "completed"
    },
    "tags": []
   },
   "source": [
    "### FashionMNIST in pytorch"
   ]
  },
  {
   "cell_type": "code",
   "execution_count": 12,
   "id": "4bfcdd99",
   "metadata": {
    "execution": {
     "iopub.execute_input": "2024-10-05T14:07:58.490512Z",
     "iopub.status.busy": "2024-10-05T14:07:58.490199Z",
     "iopub.status.idle": "2024-10-05T14:07:58.494419Z",
     "shell.execute_reply": "2024-10-05T14:07:58.493655Z"
    },
    "papermill": {
     "duration": 0.020356,
     "end_time": "2024-10-05T14:07:58.496331",
     "exception": false,
     "start_time": "2024-10-05T14:07:58.475975",
     "status": "completed"
    },
    "tags": []
   },
   "outputs": [],
   "source": [
    "import torch\n",
    "import torch.nn as nn\n",
    "import torch.nn.functional as F\n",
    "import torch.optim as optim"
   ]
  },
  {
   "cell_type": "code",
   "execution_count": 13,
   "id": "b6dd8899",
   "metadata": {
    "execution": {
     "iopub.execute_input": "2024-10-05T14:07:58.523965Z",
     "iopub.status.busy": "2024-10-05T14:07:58.523703Z",
     "iopub.status.idle": "2024-10-05T14:08:08.361200Z",
     "shell.execute_reply": "2024-10-05T14:08:08.360177Z"
    },
    "papermill": {
     "duration": 9.856856,
     "end_time": "2024-10-05T14:08:08.366482",
     "exception": false,
     "start_time": "2024-10-05T14:07:58.509626",
     "status": "completed"
    },
    "tags": []
   },
   "outputs": [
    {
     "name": "stdout",
     "output_type": "stream",
     "text": [
      "Downloading http://fashion-mnist.s3-website.eu-central-1.amazonaws.com/train-images-idx3-ubyte.gz\n",
      "Downloading http://fashion-mnist.s3-website.eu-central-1.amazonaws.com/train-images-idx3-ubyte.gz to ./data/FashionMNIST/raw/train-images-idx3-ubyte.gz\n"
     ]
    },
    {
     "name": "stderr",
     "output_type": "stream",
     "text": [
      "100%|██████████| 26421880/26421880 [00:01<00:00, 14558553.36it/s]\n"
     ]
    },
    {
     "name": "stdout",
     "output_type": "stream",
     "text": [
      "Extracting ./data/FashionMNIST/raw/train-images-idx3-ubyte.gz to ./data/FashionMNIST/raw\n",
      "\n",
      "Downloading http://fashion-mnist.s3-website.eu-central-1.amazonaws.com/train-labels-idx1-ubyte.gz\n",
      "Downloading http://fashion-mnist.s3-website.eu-central-1.amazonaws.com/train-labels-idx1-ubyte.gz to ./data/FashionMNIST/raw/train-labels-idx1-ubyte.gz\n"
     ]
    },
    {
     "name": "stderr",
     "output_type": "stream",
     "text": [
      "100%|██████████| 29515/29515 [00:00<00:00, 296495.51it/s]\n"
     ]
    },
    {
     "name": "stdout",
     "output_type": "stream",
     "text": [
      "Extracting ./data/FashionMNIST/raw/train-labels-idx1-ubyte.gz to ./data/FashionMNIST/raw\n",
      "\n",
      "Downloading http://fashion-mnist.s3-website.eu-central-1.amazonaws.com/t10k-images-idx3-ubyte.gz\n",
      "Downloading http://fashion-mnist.s3-website.eu-central-1.amazonaws.com/t10k-images-idx3-ubyte.gz to ./data/FashionMNIST/raw/t10k-images-idx3-ubyte.gz\n"
     ]
    },
    {
     "name": "stderr",
     "output_type": "stream",
     "text": [
      "100%|██████████| 4422102/4422102 [00:04<00:00, 997727.16it/s] \n"
     ]
    },
    {
     "name": "stdout",
     "output_type": "stream",
     "text": [
      "Extracting ./data/FashionMNIST/raw/t10k-images-idx3-ubyte.gz to ./data/FashionMNIST/raw\n",
      "\n",
      "Downloading http://fashion-mnist.s3-website.eu-central-1.amazonaws.com/t10k-labels-idx1-ubyte.gz\n",
      "Downloading http://fashion-mnist.s3-website.eu-central-1.amazonaws.com/t10k-labels-idx1-ubyte.gz to ./data/FashionMNIST/raw/t10k-labels-idx1-ubyte.gz\n"
     ]
    },
    {
     "name": "stderr",
     "output_type": "stream",
     "text": [
      "100%|██████████| 5148/5148 [00:00<00:00, 11346440.88it/s]"
     ]
    },
    {
     "name": "stdout",
     "output_type": "stream",
     "text": [
      "Extracting ./data/FashionMNIST/raw/t10k-labels-idx1-ubyte.gz to ./data/FashionMNIST/raw\n",
      "\n"
     ]
    },
    {
     "name": "stderr",
     "output_type": "stream",
     "text": [
      "\n"
     ]
    }
   ],
   "source": [
    "import numpy as np\n",
    "import torchvision\n",
    "from torchvision import datasets, transforms\n",
    "\n",
    "n_samples = 150\n",
    "\n",
    "X_train = datasets.FashionMNIST(root='./data', train=True, download=True,\n",
    "                         transform=transforms.Compose([transforms.ToTensor()]))\n",
    "\n",
    "idx = np.append(np.where(X_train.targets == 0)[0][:n_samples], \n",
    "                np.where(X_train.targets == 1)[0][:n_samples])\n",
    "idx = np.append(idx, \n",
    "                np.where(X_train.targets == 2)[0][:n_samples])\n",
    "idx = np.append(idx, \n",
    "                np.where(X_train.targets == 3)[0][:n_samples])\n",
    "idx = np.append(idx, \n",
    "                np.where(X_train.targets == 4)[0][:n_samples])\n",
    "idx = np.append(idx, \n",
    "                np.where(X_train.targets == 5)[0][:n_samples])\n",
    "idx = np.append(idx, \n",
    "                np.where(X_train.targets == 6)[0][:n_samples])\n",
    "idx = np.append(idx, \n",
    "                np.where(X_train.targets == 7)[0][:n_samples])\n",
    "\n",
    "\n",
    "X_train.data = X_train.data[idx]\n",
    "X_train.targets = X_train.targets[idx]\n",
    "\n",
    "\n",
    "train_loader = torch.utils.data.DataLoader(X_train, batch_size=1, shuffle=True, pin_memory=True)"
   ]
  },
  {
   "cell_type": "markdown",
   "id": "9129a1df",
   "metadata": {
    "papermill": {
     "duration": 0.01839,
     "end_time": "2024-10-05T14:08:08.411105",
     "exception": false,
     "start_time": "2024-10-05T14:08:08.392715",
     "status": "completed"
    },
    "tags": []
   },
   "source": [
    "**Testing Data**"
   ]
  },
  {
   "cell_type": "code",
   "execution_count": 14,
   "id": "197a3215",
   "metadata": {
    "execution": {
     "iopub.execute_input": "2024-10-05T14:08:08.449850Z",
     "iopub.status.busy": "2024-10-05T14:08:08.449326Z",
     "iopub.status.idle": "2024-10-05T14:08:08.472801Z",
     "shell.execute_reply": "2024-10-05T14:08:08.471932Z"
    },
    "papermill": {
     "duration": 0.045154,
     "end_time": "2024-10-05T14:08:08.474941",
     "exception": false,
     "start_time": "2024-10-05T14:08:08.429787",
     "status": "completed"
    },
    "tags": []
   },
   "outputs": [],
   "source": [
    "n_samples = 150\n",
    "\n",
    "X_test = datasets.FashionMNIST(root='./data', train=False, download=True,\n",
    "                        transform=transforms.Compose([transforms.ToTensor()]))\n",
    "\n",
    "idx = np.append(np.where(X_test.targets == 0)[0][:n_samples], \n",
    "                np.where(X_test.targets == 1)[0][:n_samples])\n",
    "idx = np.append(idx, \n",
    "                np.where(X_test.targets == 2)[0][:n_samples])\n",
    "idx = np.append(idx, \n",
    "                np.where(X_test.targets == 3)[0][:n_samples])\n",
    "idx = np.append(idx, \n",
    "                np.where(X_test.targets == 4)[0][:n_samples])\n",
    "idx = np.append(idx, \n",
    "                np.where(X_test.targets == 5)[0][:n_samples])\n",
    "idx = np.append(idx, \n",
    "                np.where(X_test.targets == 6)[0][:n_samples])\n",
    "idx = np.append(idx, \n",
    "                np.where(X_test.targets == 7)[0][:n_samples])\n",
    "\n",
    "\n",
    "X_test.data = X_test.data[idx]\n",
    "X_test.targets = X_test.targets[idx]\n",
    "\n",
    "test_loader = torch.utils.data.DataLoader(X_test, batch_size=1, shuffle=True)"
   ]
  },
  {
   "cell_type": "code",
   "execution_count": 15,
   "id": "9038a72a",
   "metadata": {
    "execution": {
     "iopub.execute_input": "2024-10-05T14:08:08.513909Z",
     "iopub.status.busy": "2024-10-05T14:08:08.513508Z",
     "iopub.status.idle": "2024-10-05T14:08:08.528746Z",
     "shell.execute_reply": "2024-10-05T14:08:08.527863Z"
    },
    "papermill": {
     "duration": 0.037255,
     "end_time": "2024-10-05T14:08:08.530703",
     "exception": false,
     "start_time": "2024-10-05T14:08:08.493448",
     "status": "completed"
    },
    "tags": []
   },
   "outputs": [],
   "source": [
    "class Net(nn.Module):\n",
    "    def __init__(self):\n",
    "        super(Net, self).__init__()\n",
    "        self.conv1 = nn.Conv2d(1, 10, kernel_size=5)\n",
    "        self.conv2 = nn.Conv2d(10, 20, kernel_size=5)\n",
    "        self.conv2_drop = nn.Dropout2d()\n",
    "        self.fc1 = nn.Linear(320, 50)\n",
    "        self.fc2 = nn.Linear(50, NUM_QUBITS)\n",
    "        self.qc = TorchCircuit.apply\n",
    "        self.qcsim = nn.Linear(NUM_QUBITS, 1)\n",
    "        self.fc3 = nn.Linear(1, 3)\n",
    "\n",
    "    def forward(self, x):\n",
    "        x = F.relu(F.max_pool2d(self.conv1(x), 2))\n",
    "        x = F.relu(F.max_pool2d(self.conv2_drop(self.conv2(x)), 2))\n",
    "        x = x.view(-1, 320)\n",
    "        x = F.relu(self.fc1(x))\n",
    "        x = F.dropout(x, training=self.training)\n",
    "        x = self.fc2(x)\n",
    "        x = np.pi*torch.tanh(x)\n",
    "\n",
    "        MODE = 'QC' \n",
    "    \n",
    "        if MODE == 'QC': \n",
    "            x = qc(x[0]) # QUANTUM LAYER\n",
    "        \n",
    "        else:\n",
    "            x = self.qcsim(x)\n",
    "\n",
    "        x = torch.sigmoid(x)\n",
    "        x = torch.cat((x, 1-x), -1)\n",
    "        return x\n",
    "    \n",
    "    \n",
    "    def predict(self, x):\n",
    "        pred = self.forward(x)\n",
    "        ans = torch.argmax(pred[0]).item()\n",
    "        return torch.tensor(ans)\n",
    "    \n",
    "network = Net()\n",
    "optimizer = optim.Adam(network.parameters(), lr=0.001)"
   ]
  },
  {
   "cell_type": "code",
   "execution_count": 16,
   "id": "ed898d24",
   "metadata": {
    "execution": {
     "iopub.execute_input": "2024-10-05T14:08:08.570003Z",
     "iopub.status.busy": "2024-10-05T14:08:08.569694Z",
     "iopub.status.idle": "2024-10-05T14:08:08.575508Z",
     "shell.execute_reply": "2024-10-05T14:08:08.574314Z"
    },
    "papermill": {
     "duration": 0.028558,
     "end_time": "2024-10-05T14:08:08.577673",
     "exception": false,
     "start_time": "2024-10-05T14:08:08.549115",
     "status": "completed"
    },
    "tags": []
   },
   "outputs": [
    {
     "name": "stdout",
     "output_type": "stream",
     "text": [
      "Number of trainable parameters: 21493\n"
     ]
    }
   ],
   "source": [
    "total_params = sum(p.numel() for p in network.parameters() if p.requires_grad)\n",
    "print(\"Number of trainable parameters:\", total_params)"
   ]
  },
  {
   "cell_type": "code",
   "execution_count": 17,
   "id": "09869b45",
   "metadata": {
    "execution": {
     "iopub.execute_input": "2024-10-05T14:08:08.616442Z",
     "iopub.status.busy": "2024-10-05T14:08:08.616164Z",
     "iopub.status.idle": "2024-10-05T14:08:08.625452Z",
     "shell.execute_reply": "2024-10-05T14:08:08.624423Z"
    },
    "papermill": {
     "duration": 0.031226,
     "end_time": "2024-10-05T14:08:08.627684",
     "exception": false,
     "start_time": "2024-10-05T14:08:08.596458",
     "status": "completed"
    },
    "tags": []
   },
   "outputs": [],
   "source": [
    "class AlexNet(nn.Module):\n",
    "    def __init__(self, num_classes=6):\n",
    "        super(AlexNet, self).__init__()\n",
    "        self.features = nn.Sequential(\n",
    "            nn.Conv2d(1, 64, kernel_size=3, stride=1, padding=1),\n",
    "            nn.ReLU(inplace=True),\n",
    "            nn.MaxPool2d(kernel_size=2, stride=2),\n",
    "            nn.Conv2d(64, 192, kernel_size=3, padding=1),\n",
    "            nn.ReLU(inplace=True),\n",
    "            nn.MaxPool2d(kernel_size=2, stride=2),\n",
    "            nn.Conv2d(192, 384, kernel_size=3, padding=1),\n",
    "            nn.ReLU(inplace=True),\n",
    "        )\n",
    "        self.classifier = nn.Sequential(\n",
    "            nn.Dropout(),\n",
    "            nn.Linear(384 * 7 * 7, 4096),\n",
    "            nn.ReLU(inplace=True),\n",
    "            nn.Dropout(),\n",
    "            nn.Linear(4096, 4096),\n",
    "            nn.ReLU(inplace=True),\n",
    "            nn.Linear(4096, num_classes),\n",
    "        )\n",
    "\n",
    "    def forward(self, x):\n",
    "        x = self.features(x)\n",
    "        x = x.view(x.size(0), 384 * 7 * 7)\n",
    "        x = self.classifier(x)\n",
    "        return x\n"
   ]
  },
  {
   "cell_type": "code",
   "execution_count": 18,
   "id": "0d28c794",
   "metadata": {
    "execution": {
     "iopub.execute_input": "2024-10-05T14:08:08.665901Z",
     "iopub.status.busy": "2024-10-05T14:08:08.665576Z",
     "iopub.status.idle": "2024-10-05T14:08:13.521174Z",
     "shell.execute_reply": "2024-10-05T14:08:13.520267Z"
    },
    "papermill": {
     "duration": 4.876656,
     "end_time": "2024-10-05T14:08:13.523358",
     "exception": false,
     "start_time": "2024-10-05T14:08:08.646702",
     "status": "completed"
    },
    "tags": []
   },
   "outputs": [
    {
     "name": "stderr",
     "output_type": "stream",
     "text": [
      "/tmp/ipykernel_23/1957118001.py:2: FutureWarning: You are using `torch.load` with `weights_only=False` (the current default value), which uses the default pickle module implicitly. It is possible to construct malicious pickle data which will execute arbitrary code during unpickling (See https://github.com/pytorch/pytorch/blob/main/SECURITY.md#untrusted-models for more details). In a future release, the default value for `weights_only` will be flipped to `True`. This limits the functions that could be executed during unpickling. Arbitrary objects will no longer be allowed to be loaded via this mode unless they are explicitly allowlisted by the user via `torch.serialization.add_safe_globals`. We recommend you start setting `weights_only=True` for any use case where you don't have full control of the loaded file. Please open an issue on GitHub for any issues related to this experimental feature.\n",
      "  teacher_model.load_state_dict(torch.load(\"/kaggle/input/fashionmnist/other/default/1/alexnet fashionmnist 0-7.pth\"))\n"
     ]
    },
    {
     "data": {
      "text/plain": [
       "AlexNet(\n",
       "  (features): Sequential(\n",
       "    (0): Conv2d(1, 64, kernel_size=(3, 3), stride=(1, 1), padding=(1, 1))\n",
       "    (1): ReLU(inplace=True)\n",
       "    (2): MaxPool2d(kernel_size=2, stride=2, padding=0, dilation=1, ceil_mode=False)\n",
       "    (3): Conv2d(64, 192, kernel_size=(3, 3), stride=(1, 1), padding=(1, 1))\n",
       "    (4): ReLU(inplace=True)\n",
       "    (5): MaxPool2d(kernel_size=2, stride=2, padding=0, dilation=1, ceil_mode=False)\n",
       "    (6): Conv2d(192, 384, kernel_size=(3, 3), stride=(1, 1), padding=(1, 1))\n",
       "    (7): ReLU(inplace=True)\n",
       "  )\n",
       "  (classifier): Sequential(\n",
       "    (0): Dropout(p=0.5, inplace=False)\n",
       "    (1): Linear(in_features=18816, out_features=4096, bias=True)\n",
       "    (2): ReLU(inplace=True)\n",
       "    (3): Dropout(p=0.5, inplace=False)\n",
       "    (4): Linear(in_features=4096, out_features=4096, bias=True)\n",
       "    (5): ReLU(inplace=True)\n",
       "    (6): Linear(in_features=4096, out_features=8, bias=True)\n",
       "  )\n",
       ")"
      ]
     },
     "execution_count": 18,
     "metadata": {},
     "output_type": "execute_result"
    }
   ],
   "source": [
    "teacher_model = AlexNet(num_classes=8)\n",
    "teacher_model.load_state_dict(torch.load(\"/kaggle/input/fashionmnist/other/default/1/alexnet fashionmnist 0-7.pth\"))\n",
    "teacher_model.eval()"
   ]
  },
  {
   "cell_type": "code",
   "execution_count": 19,
   "id": "317930b1",
   "metadata": {
    "execution": {
     "iopub.execute_input": "2024-10-05T14:08:13.564557Z",
     "iopub.status.busy": "2024-10-05T14:08:13.563592Z",
     "iopub.status.idle": "2024-10-05T14:08:13.569330Z",
     "shell.execute_reply": "2024-10-05T14:08:13.568488Z"
    },
    "papermill": {
     "duration": 0.028835,
     "end_time": "2024-10-05T14:08:13.571411",
     "exception": false,
     "start_time": "2024-10-05T14:08:13.542576",
     "status": "completed"
    },
    "tags": []
   },
   "outputs": [],
   "source": [
    "def distillation_loss(y, teacher_scores, T=3.0, alpha=0.9):\n",
    "    # Get the soft targets from the teacher model\n",
    "    teacher_probs = F.softmax(teacher_scores / T, dim=1)\n",
    "    # Calculate KL divergence\n",
    "    kd_loss = nn.KLDivLoss()(F.log_softmax(y/T, dim=1), teacher_probs) * (T * T * 6 * alpha)\n",
    "    return kd_loss\n"
   ]
  },
  {
   "cell_type": "code",
   "execution_count": 20,
   "id": "7dd884d4",
   "metadata": {
    "execution": {
     "iopub.execute_input": "2024-10-05T14:08:13.611393Z",
     "iopub.status.busy": "2024-10-05T14:08:13.611055Z",
     "iopub.status.idle": "2024-10-05T14:53:55.519907Z",
     "shell.execute_reply": "2024-10-05T14:53:55.518854Z"
    },
    "papermill": {
     "duration": 2742.941824,
     "end_time": "2024-10-05T14:53:56.532954",
     "exception": false,
     "start_time": "2024-10-05T14:08:13.591130",
     "status": "completed"
    },
    "scrolled": true,
    "tags": []
   },
   "outputs": [
    {
     "name": "stderr",
     "output_type": "stream",
     "text": [
      "  0%|          | 0/1200 [00:00<?, ?it/s]/opt/conda/lib/python3.10/site-packages/torch/nn/functional.py:2994: UserWarning: reduction: 'mean' divides the total loss by both the batch size and the support size.'batchmean' divides only by the batch size, and aligns with the KL div math definition.'mean' will be changed to behave the same as 'batchmean' in the next major release.\n",
      "  warnings.warn(\n",
      "100%|██████████| 1200/1200 [03:42<00:00,  5.38it/s]\n"
     ]
    },
    {
     "name": "stdout",
     "output_type": "stream",
     "text": [
      "Training [10%]\tLoss: 11.6803\n",
      "Val loss: 2.741845049553255 and accuracy = 11.416666666666666%\n"
     ]
    },
    {
     "name": "stderr",
     "output_type": "stream",
     "text": [
      "100%|██████████| 1200/1200 [03:30<00:00,  5.70it/s]\n"
     ]
    },
    {
     "name": "stdout",
     "output_type": "stream",
     "text": [
      "Training [20%]\tLoss: 11.6795\n",
      "Val loss: 2.741880950818447 and accuracy = 12.5%\n"
     ]
    },
    {
     "name": "stderr",
     "output_type": "stream",
     "text": [
      "100%|██████████| 1200/1200 [03:31<00:00,  5.66it/s]\n"
     ]
    },
    {
     "name": "stdout",
     "output_type": "stream",
     "text": [
      "Training [30%]\tLoss: 11.6792\n",
      "Val loss: 2.741852694110063 and accuracy = 12.916666666666666%\n"
     ]
    },
    {
     "name": "stderr",
     "output_type": "stream",
     "text": [
      "100%|██████████| 1200/1200 [03:41<00:00,  5.42it/s]\n"
     ]
    },
    {
     "name": "stdout",
     "output_type": "stream",
     "text": [
      "Training [40%]\tLoss: 11.6797\n",
      "Val loss: 2.7418913378688896 and accuracy = 12.0%\n"
     ]
    },
    {
     "name": "stderr",
     "output_type": "stream",
     "text": [
      "100%|██████████| 1200/1200 [03:41<00:00,  5.41it/s]\n"
     ]
    },
    {
     "name": "stdout",
     "output_type": "stream",
     "text": [
      "Training [50%]\tLoss: 11.6797\n",
      "Val loss: 2.741879026319301 and accuracy = 12.833333333333334%\n"
     ]
    },
    {
     "name": "stderr",
     "output_type": "stream",
     "text": [
      "100%|██████████| 1200/1200 [03:31<00:00,  5.67it/s]\n"
     ]
    },
    {
     "name": "stdout",
     "output_type": "stream",
     "text": [
      "Training [60%]\tLoss: 11.6785\n",
      "Val loss: 2.74184218014443 and accuracy = 11.166666666666666%\n"
     ]
    },
    {
     "name": "stderr",
     "output_type": "stream",
     "text": [
      "100%|██████████| 1200/1200 [03:34<00:00,  5.59it/s]\n"
     ]
    },
    {
     "name": "stdout",
     "output_type": "stream",
     "text": [
      "Training [70%]\tLoss: 11.6804\n",
      "Val loss: 2.7418912581272448 and accuracy = 12.916666666666666%\n"
     ]
    },
    {
     "name": "stderr",
     "output_type": "stream",
     "text": [
      "100%|██████████| 1200/1200 [03:42<00:00,  5.38it/s]\n"
     ]
    },
    {
     "name": "stdout",
     "output_type": "stream",
     "text": [
      "Training [80%]\tLoss: 11.6794\n",
      "Val loss: 2.7418914509796934 and accuracy = 10.916666666666666%\n"
     ]
    },
    {
     "name": "stderr",
     "output_type": "stream",
     "text": [
      "100%|██████████| 1200/1200 [03:33<00:00,  5.61it/s]\n"
     ]
    },
    {
     "name": "stdout",
     "output_type": "stream",
     "text": [
      "Training [90%]\tLoss: 11.6797\n",
      "Val loss: 2.741885509822672 and accuracy = 12.166666666666666%\n"
     ]
    },
    {
     "name": "stderr",
     "output_type": "stream",
     "text": [
      "100%|██████████| 1200/1200 [03:45<00:00,  5.32it/s]\n"
     ]
    },
    {
     "name": "stdout",
     "output_type": "stream",
     "text": [
      "Training [100%]\tLoss: 11.6758\n",
      "Val loss: 2.741832976560453 and accuracy = 13.833333333333334%\n"
     ]
    }
   ],
   "source": [
    "epochs = 10\n",
    "loss_list = []\n",
    "val_loss_list = []\n",
    "loss_func = nn.CrossEntropyLoss()\n",
    "best = 0\n",
    "\n",
    "for epoch in range(epochs):\n",
    "    network.train()\n",
    "    \n",
    "    total_loss = []\n",
    "    for batch_idx, (data, target) in enumerate(tqdm(train_loader)):\n",
    "#         print(batch_idx)\n",
    "        optimizer.zero_grad()        \n",
    "        # Forward pass\n",
    "        output = network(data)\n",
    "        \n",
    "        # Forward pass in teacher\n",
    "        with torch.no_grad():\n",
    "            output_teacher = teacher_model(data)\n",
    "            \n",
    "        # Calculating loss\n",
    "        loss = loss_func(output, target)\n",
    "        \n",
    "        # Calculate the distillation loss using only first 8 outputs of student\n",
    "        kd_loss = distillation_loss(output[:, :8], output_teacher)\n",
    "        \n",
    "        loss = loss + kd_loss\n",
    "        \n",
    "        # Backward pass\n",
    "        loss.backward()\n",
    "        # Optimize the weights\n",
    "        optimizer.step()\n",
    "        \n",
    "        total_loss.append(loss.item())\n",
    "        \n",
    "    loss_list.append(sum(total_loss)/len(total_loss))\n",
    "    print('Training [{:.0f}%]\\tLoss: {:.4f}'.format(\n",
    "        100. * (epoch + 1) / epochs, loss_list[-1]))\n",
    "    \n",
    "    network.eval()\n",
    "    \n",
    "    accuracy = 0\n",
    "    number = 0\n",
    "    \n",
    "    with torch.no_grad():\n",
    "        total_val_loss = []\n",
    "        for batch_idx, (data, target) in enumerate(test_loader):\n",
    "            number +=1\n",
    "            output = network(data)\n",
    "            \n",
    "            # Calculating loss\n",
    "            loss = loss_func(output, target)\n",
    "            \n",
    "            output = network.predict(data).item()\n",
    "            \n",
    "            total_val_loss.append(loss.item())\n",
    "        \n",
    "            accuracy += (output == target[0].item())*1\n",
    "            \n",
    "        accuracy = 100*accuracy/number\n",
    "        \n",
    "        if accuracy > best:\n",
    "            best = accuracy\n",
    "            torch.save(network.state_dict(), 'distil t=alex s=0-5 fashion 3qubits.pth')\n",
    "            \n",
    "        val_loss_list.append(sum(total_val_loss)/len(total_val_loss))\n",
    "        print(\"Val loss: {} and accuracy = {}%\".format(val_loss_list[-1],accuracy))"
   ]
  },
  {
   "cell_type": "code",
   "execution_count": 21,
   "id": "cf231f74",
   "metadata": {
    "execution": {
     "iopub.execute_input": "2024-10-05T14:53:58.545539Z",
     "iopub.status.busy": "2024-10-05T14:53:58.544639Z",
     "iopub.status.idle": "2024-10-05T14:53:58.550069Z",
     "shell.execute_reply": "2024-10-05T14:53:58.549178Z"
    },
    "papermill": {
     "duration": 1.066559,
     "end_time": "2024-10-05T14:53:58.552708",
     "exception": false,
     "start_time": "2024-10-05T14:53:57.486149",
     "status": "completed"
    },
    "tags": []
   },
   "outputs": [
    {
     "name": "stdout",
     "output_type": "stream",
     "text": [
      "Best accuracy = 13.833333333333334\n"
     ]
    }
   ],
   "source": [
    "print('Best accuracy = {}'.format(best))"
   ]
  },
  {
   "cell_type": "code",
   "execution_count": 22,
   "id": "c0823094",
   "metadata": {
    "execution": {
     "iopub.execute_input": "2024-10-05T14:54:00.570764Z",
     "iopub.status.busy": "2024-10-05T14:54:00.570341Z",
     "iopub.status.idle": "2024-10-05T14:54:00.576155Z",
     "shell.execute_reply": "2024-10-05T14:54:00.575319Z"
    },
    "papermill": {
     "duration": 1.015435,
     "end_time": "2024-10-05T14:54:00.577995",
     "exception": false,
     "start_time": "2024-10-05T14:53:59.562560",
     "status": "completed"
    },
    "tags": []
   },
   "outputs": [],
   "source": [
    "def normalize_list(numbers):\n",
    "    min_value = min(numbers)\n",
    "    max_value = max(numbers)\n",
    "    return [(x - min_value) / (max_value - min_value) for x in numbers]\n",
    "\n",
    "loss_list = normalize_list(loss_list)\n",
    "val_loss_list = normalize_list(val_loss_list)"
   ]
  },
  {
   "cell_type": "code",
   "execution_count": 23,
   "id": "f1fbb1be",
   "metadata": {
    "execution": {
     "iopub.execute_input": "2024-10-05T14:54:02.528419Z",
     "iopub.status.busy": "2024-10-05T14:54:02.528032Z",
     "iopub.status.idle": "2024-10-05T14:54:03.649962Z",
     "shell.execute_reply": "2024-10-05T14:54:03.649065Z"
    },
    "papermill": {
     "duration": 2.121688,
     "end_time": "2024-10-05T14:54:03.652524",
     "exception": false,
     "start_time": "2024-10-05T14:54:01.530836",
     "status": "completed"
    },
    "tags": []
   },
   "outputs": [
    {
     "name": "stderr",
     "output_type": "stream",
     "text": [
      "/tmp/ipykernel_23/1337455136.py:4: MatplotlibDeprecationWarning: The seaborn styles shipped by Matplotlib are deprecated since 3.6, as they no longer correspond to the styles shipped by seaborn. However, they will remain available as 'seaborn-v0_8-<style>'. Alternatively, directly use the seaborn API instead.\n",
      "  plt.style.use('seaborn-darkgrid')\n"
     ]
    },
    {
     "data": {
      "image/png": "[encoded data removed]",
      "text/plain": [
       "<Figure size 1000x600 with 1 Axes>"
      ]
     },
     "metadata": {},
     "output_type": "display_data"
    }
   ],
   "source": [
    "import matplotlib.pyplot as plt\n",
    "\n",
    "# Use a professional style\n",
    "plt.style.use('seaborn-darkgrid')\n",
    "\n",
    "# Create a color palette\n",
    "color_palette = plt.get_cmap('Set1')\n",
    "\n",
    "# Set up the figure and axes\n",
    "fig, ax = plt.subplots(figsize=(10, 6))\n",
    "\n",
    "# Plotting both the curves simultaneously with enhanced aesthetics\n",
    "ax.plot(loss_list, color=color_palette(0), marker='o', linestyle='-', linewidth=2, label='Training loss')\n",
    "ax.plot(val_loss_list, color=color_palette(1), marker='', linestyle='--', linewidth=2, label='Validation loss')\n",
    "\n",
    "# Naming the x-axis, y-axis and the whole graph with enhanced font properties\n",
    "ax.set_xlabel(\"Epochs\", fontsize=14, fontweight='bold')\n",
    "ax.set_ylabel(\"Loss\", fontsize=14, fontweight='bold')\n",
    "ax.set_title(\"Training and Validation Loss Curves\", fontsize=16, fontweight='bold')\n",
    "\n",
    "# Displaying the legend with larger font size\n",
    "ax.legend(fontsize=12)\n",
    "\n",
    "# Enhance tick visibility and size\n",
    "ax.tick_params(axis='both', which='major', labelsize=12)\n",
    "\n",
    "# Adjust the plot for better layout\n",
    "plt.tight_layout()\n",
    "\n",
    "# Saving the graph in high quality\n",
    "plt.savefig(\"distil t = alex s = fashionmnist 0-5 3qubits loss curve.png\", dpi=300)\n",
    "\n",
    "# Displaying the graph\n",
    "plt.show()\n"
   ]
  },
  {
   "cell_type": "code",
   "execution_count": null,
   "id": "879fcf70",
   "metadata": {
    "papermill": {
     "duration": 0.997355,
     "end_time": "2024-10-05T14:54:05.606717",
     "exception": false,
     "start_time": "2024-10-05T14:54:04.609362",
     "status": "completed"
    },
    "tags": []
   },
   "outputs": [],
   "source": []
  }
 ],
 "metadata": {
  "kaggle": {
   "accelerator": "nvidiaTeslaT4",
   "dataSources": [
    {
     "isSourceIdPinned": true,
     "modelId": 127636,
     "modelInstanceId": 103411,
     "sourceId": 122866,
     "sourceType": "modelInstanceVersion"
    }
   ],
   "dockerImageVersionId": 30787,
   "isGpuEnabled": true,
   "isInternetEnabled": true,
   "language": "python",
   "sourceType": "notebook"
  },
  "kernelspec": {
   "display_name": "Python 3",
   "language": "python",
   "name": "python3"
  },
  "language_info": {
   "codemirror_mode": {
    "name": "ipython",
    "version": 3
   },
   "file_extension": ".py",
   "mimetype": "text/x-python",
   "name": "python",
   "nbconvert_exporter": "python",
   "pygments_lexer": "ipython3",
   "version": "3.10.14"
  },
  "papermill": {
   "default_parameters": {},
   "duration": 2815.935747,
   "end_time": "2024-10-05T14:54:07.876336",
   "environment_variables": {},
   "exception": null,
   "input_path": "__notebook__.ipynb",
   "output_path": "__notebook__.ipynb",
   "parameters": {},
   "start_time": "2024-10-05T14:07:11.940589",
   "version": "2.6.0"
  }
 },
 "nbformat": 4,
 "nbformat_minor": 5
}
